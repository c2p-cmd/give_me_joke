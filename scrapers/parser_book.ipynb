{
 "cells": [
  {
   "cell_type": "markdown",
   "metadata": {},
   "source": [
    "# Source 1"
   ]
  },
  {
   "cell_type": "code",
   "execution_count": 4,
   "metadata": {},
   "outputs": [],
   "source": [
    "import json\n",
    "\n",
    "with open(\"../data_sources/official_joke_api.json\") as json_file:\n",
    "    data_source_1 = json.load(json_file)"
   ]
  },
  {
   "cell_type": "code",
   "execution_count": 61,
   "metadata": {},
   "outputs": [
    {
     "name": "stdout",
     "output_type": "stream",
     "text": [
      "before:\n",
      "{'type': 'general', 'setup': 'What did the fish say when it hit the wall?', 'punchline': 'Dam.'}\n",
      "['general', 'general', 'general', 'general', 'general', 'general', 'general', 'general', 'general', 'general', 'general', 'knock-knock', 'knock-knock', 'knock-knock', 'programming', 'programming', 'programming', 'programming', 'general', 'general', 'general', 'general', 'programming', 'programming', 'programming', 'programming', 'programming', 'programming', 'programming', 'general', 'general', 'general', 'programming', 'knock-knock', 'programming', 'general', 'general', 'general', 'general', 'general', 'general', 'general', 'general', 'general', 'general', 'general', 'general', 'general', 'general', 'general', 'general', 'general', 'general', 'general', 'general', 'programming', 'general', 'general', 'programming', 'programming', 'knock-knock', 'general', 'general', 'general', 'general', 'general', 'general', 'general', 'general', 'general', 'general', 'programming', 'programming', 'programming', 'general', 'general', 'general', 'general', 'general', 'general', 'general', 'general', 'general', 'general', 'general', 'general', 'general', 'general', 'general', 'general', 'general', 'general', 'general', 'general', 'general', 'general', 'general', 'general', 'general', 'general', 'general', 'general', 'general', 'general', 'general', 'general', 'general', 'general', 'general', 'general', 'general', 'general', 'general', 'general', 'general', 'general', 'general', 'general', 'general', 'general', 'general', 'general', 'general', 'general', 'general', 'general', 'general', 'general', 'general', 'general', 'general', 'general', 'general', 'general', 'general', 'general', 'general', 'general', 'general', 'general', 'general', 'general', 'general', 'general', 'general', 'general', 'general', 'general', 'general', 'general', 'general', 'general', 'general', 'general', 'general', 'general', 'general', 'general', 'general', 'general', 'general', 'general', 'general', 'general', 'general', 'general', 'general', 'general', 'general', 'general', 'general', 'general', 'general', 'general', 'general', 'general', 'general', 'general', 'general', 'general', 'general', 'general', 'general', 'general', 'general', 'general', 'general', 'general', 'general', 'general', 'general', 'general', 'general', 'general', 'general', 'general', 'general', 'general', 'general', 'general', 'general', 'general', 'general', 'general', 'general', 'general', 'general', 'general', 'general', 'general', 'general', 'general', 'general', 'general', 'general', 'general', 'general', 'general', 'general', 'general', 'general', 'general', 'general', 'general', 'general', 'general', 'general', 'general', 'general', 'general', 'general', 'general', 'general', 'general', 'general', 'general', 'general', 'general', 'general', 'general', 'general', 'general', 'general', 'general', 'general', 'general', 'general', 'general', 'general', 'general', 'general', 'general', 'general', 'general', 'general', 'general', 'general', 'general', 'general', 'general', 'general', 'general', 'general', 'general', 'general', 'general', 'general', 'general', 'general', 'general', 'general', 'general', 'general', 'general', 'general', 'general', 'general', 'general', 'general', 'general', 'general', 'general', 'general', 'general', 'general', 'general', 'general', 'general', 'general', 'general', 'general', 'general', 'general', 'general', 'general', 'general', 'general', 'general', 'general', 'general', 'general', 'general', 'general', 'general', 'general', 'general', 'general', 'general', 'general', 'general', 'general', 'general', 'general', 'general', 'general', 'general', 'general', 'general', 'general', 'general', 'general', 'general', 'general', 'general', 'general', 'general', 'general', 'general', 'general', 'general', 'general', 'general', 'general', 'general', 'general', 'general', 'general', 'general', 'general', 'general', 'general', 'general', 'general', 'general', 'general', 'general', 'general', 'general', 'general', 'general', 'general', 'general', 'general', 'general', 'general', 'general', 'general', 'general', 'general', 'general', 'general', 'general', 'general', 'general', 'programming', 'programming', 'programming', 'programming', 'general', 'programming', 'programming', 'programming', 'programming', 'general', 'programming', 'general', 'general', 'general', 'general', 'programming', 'general', 'dad', 'general', 'programming', 'programming', 'programming', 'programming', 'dad', 'general', 'general', 'general', 'general', 'programming', 'general', 'programming', 'general', 'general', 'general', 'general', 'programming', 'general', 'general', 'general', 'programming', 'general', 'general']\n",
      "after\n"
     ]
    },
    {
     "data": {
      "text/plain": [
       "([{'id': '00587dfb-322f-4bce-847a-0ca7c55d9595',\n",
       "   'category': 'programming',\n",
       "   'joke': \"What's the best thing about a Boolean?\\nEven if you're wrong, you're only off by a bit.\"},\n",
       "  {'id': '770c8d45-53d0-4bf5-8b6a-7d52f3fddd42',\n",
       "   'category': 'programming',\n",
       "   'joke': \"What's the object-oriented way to become wealthy?\\nInheritance\"}],\n",
       " [{'id': '996ff28b-5e63-4bcd-aeb5-552737724249',\n",
       "   'category': 'general',\n",
       "   'joke': 'What did the fish say when it hit the wall?\\nDam.'},\n",
       "  {'id': '9dd22f65-7df1-43d5-b643-5b0c15e5fdd2',\n",
       "   'category': 'general',\n",
       "   'joke': 'How do you make a tissue dance?\\nYou put a little boogie on it.'}])"
      ]
     },
     "execution_count": 61,
     "metadata": {},
     "output_type": "execute_result"
    }
   ],
   "source": [
    "import uuid\n",
    "print(\"before:\")\n",
    "print(data_source_1[0])\n",
    "\n",
    "def mapper(element):\n",
    "    return {\n",
    "        'id' : str(uuid.uuid4()),\n",
    "        'category' : element['type'],\n",
    "        'joke' : f\"{element['setup']}\\n{element['punchline']}\"\n",
    "    }\n",
    "\n",
    "result_1 = list(map(mapper, data_source_1))\n",
    "\n",
    "categories = list(map(lambda x: x['category'], result_1))\n",
    "print(categories)\n",
    "\n",
    "print(\"after\")\n",
    "programming_jokes = list(filter(lambda x: x['category'] == 'programming', result_1))\n",
    "non_programming_jokes = list(filter(lambda x: x['category'] != 'programming', result_1))\n",
    "(programming_jokes[0:2], non_programming_jokes[0:2])"
   ]
  },
  {
   "cell_type": "code",
   "execution_count": 63,
   "metadata": {},
   "outputs": [],
   "source": [
    "with open(\"../outputs/non_programming_jokes.json\", \"w\") as output:\n",
    "    output.writelines(json.dumps(non_programming_jokes, indent=4, sort_keys=True))\n",
    "with open(\"../outputs/programming_jokes.json\", \"w\") as output:\n",
    "    output.writelines(json.dumps(programming_jokes, indent=4, sort_keys=True))"
   ]
  },
  {
   "cell_type": "markdown",
   "metadata": {},
   "source": [
    "# Source 2"
   ]
  },
  {
   "cell_type": "code",
   "execution_count": 27,
   "metadata": {},
   "outputs": [],
   "source": [
    "with open(\"../data_sources/joke_api_source.json\") as json_file:\n",
    "    data_source_2 = json.load(json_file)\n",
    "data_source_2 = data_source_2['jokes']"
   ]
  },
  {
   "cell_type": "code",
   "execution_count": 28,
   "metadata": {},
   "outputs": [
    {
     "name": "stdout",
     "output_type": "stream",
     "text": [
      "before\n",
      "{'category': 'Programming', 'type': 'single', 'joke': \"I've got a really good UDP joke to tell you but I don’t know if you'll get it.\", 'flags': {'nsfw': False, 'religious': False, 'political': False, 'racist': False, 'sexist': False, 'explicit': False}, 'id': 0, 'safe': True}\n",
      "{'category': 'Programming', 'type': 'twopart', 'setup': 'How many programmers does it take to screw in a light bulb?', 'delivery': \"None. It's a hardware problem.\", 'flags': {'nsfw': False, 'religious': False, 'political': False, 'racist': False, 'sexist': False, 'explicit': False}, 'id': 1, 'safe': True}\n",
      "{'single', 'twopart'}\n",
      "after\n"
     ]
    },
    {
     "data": {
      "text/plain": [
       "[{'id': '0',\n",
       "  'category': 'Programming',\n",
       "  'joke': \"I've got a really good UDP joke to tell you but I don’t know if you'll get it.\"},\n",
       " {'id': '1',\n",
       "  'category': 'Programming',\n",
       "  'joke': \"How many programmers does it take to screw in a light bulb?\\nNone. It's a hardware problem.\"},\n",
       " {'id': '2',\n",
       "  'category': 'Programming',\n",
       "  'joke': 'A guy walks into a bar and asks for 1.4 root beers.\\nThe bartender says \"I\\'ll have to charge you extra, that\\'s a root beer float\".\\nThe guy says \"In that case, better make it a double.\"'},\n",
       " {'id': '3',\n",
       "  'category': 'Programming',\n",
       "  'joke': \"A programmer puts two glasses on his bedside table before going to sleep.\\nA full one, in case he gets thirsty, and an empty one, in case he doesn't.\"}]"
      ]
     },
     "execution_count": 28,
     "metadata": {},
     "output_type": "execute_result"
    }
   ],
   "source": [
    "print(\"before\")\n",
    "print(data_source_2[0])\n",
    "print(data_source_2[1])\n",
    "\n",
    "types = set(map(lambda x: x['type'], data_source_2))\n",
    "print(types)\n",
    "\n",
    "def mapper(element):\n",
    "    joke = \"\"\n",
    "    if element['type'] == 'single':\n",
    "        joke = element['joke']\n",
    "    else:\n",
    "        joke = f\"{element['setup']}\\n{element['delivery']}\"\n",
    "    return {\n",
    "        'id' : str(element['id']),\n",
    "        'category' : element['category'],\n",
    "        'joke' : joke\n",
    "    }\n",
    "\n",
    "categories = set(map(lambda x: x['category'], data_source_2))\n",
    "\n",
    "print(\"after\")\n",
    "result_2 = list(map(mapper, data_source_2))\n",
    "result_2[0:4]"
   ]
  },
  {
   "cell_type": "code",
   "execution_count": 29,
   "metadata": {},
   "outputs": [
    {
     "data": {
      "text/plain": [
       "([{'id': '0',\n",
       "   'category': 'Programming',\n",
       "   'joke': \"I've got a really good UDP joke to tell you but I don’t know if you'll get it.\"},\n",
       "  {'id': '1',\n",
       "   'category': 'Programming',\n",
       "   'joke': \"How many programmers does it take to screw in a light bulb?\\nNone. It's a hardware problem.\"}],\n",
       " [{'id': '58',\n",
       "   'category': 'Pun',\n",
       "   'joke': 'I asked my wife if I was the only one she\\'s been with.\\nShe said, \"Yes, the others were at least sevens or eights.\"'},\n",
       "  {'id': '59',\n",
       "   'category': 'Pun',\n",
       "   'joke': \"Thank you student loans for getting me through college.\\nI don't think I'll ever be able to repay you.\"}])"
      ]
     },
     "execution_count": 29,
     "metadata": {},
     "output_type": "execute_result"
    }
   ],
   "source": [
    "programming_jokes = list(filter(lambda x: x['category'] == 'Programming', result_2))\n",
    "non_programming_jokes = list(filter(lambda x: x['category'] != 'Programming', result_2))\n",
    "(programming_jokes[0:2], non_programming_jokes[0:2])"
   ]
  },
  {
   "cell_type": "code",
   "execution_count": 30,
   "metadata": {},
   "outputs": [
    {
     "name": "stdout",
     "output_type": "stream",
     "text": [
      "80\n",
      "37\n",
      "117\n"
     ]
    }
   ],
   "source": [
    "with open(\"../outputs/programming_jokes.json\") as output_file1:\n",
    "    current_content = json.load(output_file1)\n",
    "\n",
    "print(len(programming_jokes))\n",
    "print(len(current_content))\n",
    "current_content += programming_jokes\n",
    "print(len(current_content))\n",
    "\n",
    "with open(\"../outputs/programming_jokes_combined.json\", \"w\") as output_file_combined:\n",
    "    output_file_combined.writelines(json.dumps(current_content, indent=4, sort_keys=True))"
   ]
  },
  {
   "cell_type": "code",
   "execution_count": 33,
   "metadata": {},
   "outputs": [
    {
     "name": "stdout",
     "output_type": "stream",
     "text": [
      "158\n",
      "369\n",
      "527\n"
     ]
    }
   ],
   "source": [
    "with open(\"../outputs/non_programming_jokes.json\") as output_file2:\n",
    "    current_content = json.load(output_file2)\n",
    "\n",
    "print(len(non_programming_jokes))\n",
    "print(len(current_content))\n",
    "current_content += non_programming_jokes\n",
    "print(len(current_content))\n",
    "\n",
    "with open(\"../outputs/non_programming_jokes_combined.json\", \"w\") as output_file_combined:\n",
    "    output_file_combined.writelines(json.dumps(current_content, indent=4, sort_keys=True))"
   ]
  }
 ],
 "metadata": {
  "kernelspec": {
   "display_name": "venv",
   "language": "python",
   "name": "python3"
  },
  "language_info": {
   "codemirror_mode": {
    "name": "ipython",
    "version": 3
   },
   "file_extension": ".py",
   "mimetype": "text/x-python",
   "name": "python",
   "nbconvert_exporter": "python",
   "pygments_lexer": "ipython3",
   "version": "3.9.10"
  }
 },
 "nbformat": 4,
 "nbformat_minor": 2
}
